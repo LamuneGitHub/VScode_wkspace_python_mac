{
 "cells": [
  {
   "cell_type": "code",
   "execution_count": 1,
   "metadata": {},
   "outputs": [
    {
     "ename": "ModuleNotFoundError",
     "evalue": "No module named 'parquet'",
     "output_type": "error",
     "traceback": [
      "\u001b[1;31m---------------------------------------------------------------------------\u001b[0m",
      "\u001b[1;31mModuleNotFoundError\u001b[0m                       Traceback (most recent call last)",
      "\u001b[1;32mc:\\Users\\ngkni\\git\\vscode_workspace_win\\test_vscode_setting.ipynb 셀 1\u001b[0m in \u001b[0;36m<cell line: 1>\u001b[1;34m()\u001b[0m\n\u001b[1;32m----> <a href='vscode-notebook-cell:/c%3A/Users/ngkni/git/vscode_workspace_win/test_vscode_setting.ipynb#W0sZmlsZQ%3D%3D?line=0'>1</a>\u001b[0m \u001b[39mimport\u001b[39;00m \u001b[39mlib_lamune\u001b[39;00m \u001b[39mas\u001b[39;00m \u001b[39mlmn\u001b[39;00m\n",
      "File \u001b[1;32m~\\git\\Lamune_Util\\lib_lamune.py:507\u001b[0m, in \u001b[0;36m<module>\u001b[1;34m\u001b[0m\n\u001b[0;32m    500\u001b[0m     \u001b[39mreturn\u001b[39;00m df_tmp \n\u001b[0;32m    502\u001b[0m \u001b[39m# 피쳐 엔지니어링\u001b[39;00m\n\u001b[0;32m    503\u001b[0m \u001b[39m#-----------------------------------------------------------------------------------\u001b[39;00m\n\u001b[0;32m    504\u001b[0m \u001b[39m#-----------------------------------------------------------------------------------\u001b[39;00m\n\u001b[0;32m    505\u001b[0m \u001b[39m# 파일저장\u001b[39;00m\n\u001b[1;32m--> 507\u001b[0m \u001b[39mimport\u001b[39;00m \u001b[39mparquet\u001b[39;00m\n\u001b[0;32m    509\u001b[0m \u001b[39m# DataFrame을 자료형 정보까지 함께 저장한다.\u001b[39;00m\n\u001b[0;32m    510\u001b[0m \u001b[39mdef\u001b[39;00m \u001b[39mFILE_DataFrame_저장\u001b[39m ( df_tmp , path  , fileName ,useParquet \u001b[39m=\u001b[39m \u001b[39mTrue\u001b[39;00m , useAutoFileName \u001b[39m=\u001b[39m \u001b[39mTrue\u001b[39;00m , index\u001b[39m=\u001b[39m \u001b[39mTrue\u001b[39;00m) :\n\u001b[0;32m    511\u001b[0m   \n\u001b[0;32m    512\u001b[0m   \u001b[39m# 파일 확장자 결정\u001b[39;00m\n",
      "\u001b[1;31mModuleNotFoundError\u001b[0m: No module named 'parquet'"
     ]
    }
   ],
   "source": [
    "import lib_lamune as lmn\n",
    "\n"
   ]
  },
  {
   "cell_type": "code",
   "execution_count": 2,
   "metadata": {},
   "outputs": [
    {
     "ename": "ModuleNotFoundError",
     "evalue": "No module named 'parquet'",
     "output_type": "error",
     "traceback": [
      "\u001b[1;31m---------------------------------------------------------------------------\u001b[0m",
      "\u001b[1;31mModuleNotFoundError\u001b[0m                       Traceback (most recent call last)",
      "\u001b[1;32mc:\\Users\\ngkni\\git\\vscode_workspace_win\\test_vscode_setting.ipynb 셀 2\u001b[0m in \u001b[0;36m<cell line: 1>\u001b[1;34m()\u001b[0m\n\u001b[1;32m----> <a href='vscode-notebook-cell:/c%3A/Users/ngkni/git/vscode_workspace_win/test_vscode_setting.ipynb#W1sZmlsZQ%3D%3D?line=0'>1</a>\u001b[0m \u001b[39mimport\u001b[39;00m \u001b[39mlib_lamune\u001b[39;00m \u001b[39mas\u001b[39;00m \u001b[39mlmn\u001b[39;00m\n",
      "File \u001b[1;32m~\\git\\Lamune_Util\\lib_lamune.py:507\u001b[0m, in \u001b[0;36m<module>\u001b[1;34m\u001b[0m\n\u001b[0;32m    500\u001b[0m     \u001b[39mreturn\u001b[39;00m df_tmp \n\u001b[0;32m    502\u001b[0m \u001b[39m# 피쳐 엔지니어링\u001b[39;00m\n\u001b[0;32m    503\u001b[0m \u001b[39m#-----------------------------------------------------------------------------------\u001b[39;00m\n\u001b[0;32m    504\u001b[0m \u001b[39m#-----------------------------------------------------------------------------------\u001b[39;00m\n\u001b[0;32m    505\u001b[0m \u001b[39m# 파일저장\u001b[39;00m\n\u001b[1;32m--> 507\u001b[0m \u001b[39mimport\u001b[39;00m \u001b[39mparquet\u001b[39;00m\n\u001b[0;32m    509\u001b[0m \u001b[39m# DataFrame을 자료형 정보까지 함께 저장한다.\u001b[39;00m\n\u001b[0;32m    510\u001b[0m \u001b[39mdef\u001b[39;00m \u001b[39mFILE_DataFrame_저장\u001b[39m ( df_tmp , path  , fileName ,useParquet \u001b[39m=\u001b[39m \u001b[39mTrue\u001b[39;00m , useAutoFileName \u001b[39m=\u001b[39m \u001b[39mTrue\u001b[39;00m , index\u001b[39m=\u001b[39m \u001b[39mTrue\u001b[39;00m) :\n\u001b[0;32m    511\u001b[0m   \n\u001b[0;32m    512\u001b[0m   \u001b[39m# 파일 확장자 결정\u001b[39;00m\n",
      "\u001b[1;31mModuleNotFoundError\u001b[0m: No module named 'parquet'"
     ]
    }
   ],
   "source": [
    "import lib_lamune as lmn"
   ]
  },
  {
   "cell_type": "code",
   "execution_count": null,
   "metadata": {},
   "outputs": [],
   "source": []
  }
 ],
 "metadata": {
  "kernelspec": {
   "display_name": "Python 3.9.12 ('base')",
   "language": "python",
   "name": "python3"
  },
  "language_info": {
   "codemirror_mode": {
    "name": "ipython",
    "version": 3
   },
   "file_extension": ".py",
   "mimetype": "text/x-python",
   "name": "python",
   "nbconvert_exporter": "python",
   "pygments_lexer": "ipython3",
   "version": "3.9.12"
  },
  "orig_nbformat": 4,
  "vscode": {
   "interpreter": {
    "hash": "f49206fcf84a9145e7e21228cbafa911d1ac18292303b01e865d8267a9c448f7"
   }
  }
 },
 "nbformat": 4,
 "nbformat_minor": 2
}
